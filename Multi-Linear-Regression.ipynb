{
 "cells": [
  {
   "cell_type": "code",
   "execution_count": 12,
   "metadata": {},
   "outputs": [],
   "source": [
    "# Used for manipulation of directory paths\n",
    "import os\n",
    "\n",
    "# Scientific and vector computation for python\n",
    "import numpy as np\n",
    "\n",
    "# Used to import csv files\n",
    "import pandas as pd\n",
    "\n",
    "# Plotting library\n",
    "from matplotlib import pyplot as plt\n",
    "from mpl_toolkits.mplot3d import Axes3D  # needed to plot 3-D surfaces\n",
    "\n",
    "# tells matplotlib to embed plots within the notebook\n",
    "%matplotlib inline"
   ]
  },
  {
   "cell_type": "code",
   "execution_count": 13,
   "metadata": {},
   "outputs": [],
   "source": [
    "### Loading the data"
   ]
  },
  {
   "cell_type": "code",
   "execution_count": 14,
   "metadata": {},
   "outputs": [
    {
     "data": {
      "text/html": [
       "<div>\n",
       "<style scoped>\n",
       "    .dataframe tbody tr th:only-of-type {\n",
       "        vertical-align: middle;\n",
       "    }\n",
       "\n",
       "    .dataframe tbody tr th {\n",
       "        vertical-align: top;\n",
       "    }\n",
       "\n",
       "    .dataframe thead th {\n",
       "        text-align: right;\n",
       "    }\n",
       "</style>\n",
       "<table border=\"1\" class=\"dataframe\">\n",
       "  <thead>\n",
       "    <tr style=\"text-align: right;\">\n",
       "      <th></th>\n",
       "      <th>ENGINESIZE</th>\n",
       "      <th>CYLINDERS</th>\n",
       "      <th>FUELCONSUMPTION_CITY</th>\n",
       "      <th>FUELCONSUMPTION_COMB</th>\n",
       "      <th>CO2EMISSIONS</th>\n",
       "    </tr>\n",
       "  </thead>\n",
       "  <tbody>\n",
       "    <tr>\n",
       "      <th>0</th>\n",
       "      <td>2.0</td>\n",
       "      <td>4</td>\n",
       "      <td>9.9</td>\n",
       "      <td>8.5</td>\n",
       "      <td>196</td>\n",
       "    </tr>\n",
       "    <tr>\n",
       "      <th>1</th>\n",
       "      <td>2.4</td>\n",
       "      <td>4</td>\n",
       "      <td>11.2</td>\n",
       "      <td>9.6</td>\n",
       "      <td>221</td>\n",
       "    </tr>\n",
       "    <tr>\n",
       "      <th>2</th>\n",
       "      <td>1.5</td>\n",
       "      <td>4</td>\n",
       "      <td>6.0</td>\n",
       "      <td>5.9</td>\n",
       "      <td>136</td>\n",
       "    </tr>\n",
       "    <tr>\n",
       "      <th>3</th>\n",
       "      <td>3.5</td>\n",
       "      <td>6</td>\n",
       "      <td>12.7</td>\n",
       "      <td>11.1</td>\n",
       "      <td>255</td>\n",
       "    </tr>\n",
       "    <tr>\n",
       "      <th>4</th>\n",
       "      <td>3.5</td>\n",
       "      <td>6</td>\n",
       "      <td>12.1</td>\n",
       "      <td>10.6</td>\n",
       "      <td>244</td>\n",
       "    </tr>\n",
       "  </tbody>\n",
       "</table>\n",
       "</div>"
      ],
      "text/plain": [
       "   ENGINESIZE  CYLINDERS  FUELCONSUMPTION_CITY  FUELCONSUMPTION_COMB  \\\n",
       "0         2.0          4                   9.9                   8.5   \n",
       "1         2.4          4                  11.2                   9.6   \n",
       "2         1.5          4                   6.0                   5.9   \n",
       "3         3.5          6                  12.7                  11.1   \n",
       "4         3.5          6                  12.1                  10.6   \n",
       "\n",
       "   CO2EMISSIONS  \n",
       "0           196  \n",
       "1           221  \n",
       "2           136  \n",
       "3           255  \n",
       "4           244  "
      ]
     },
     "execution_count": 14,
     "metadata": {},
     "output_type": "execute_result"
    }
   ],
   "source": [
    "df = pd.read_csv('FuelConsumption.csv', usecols = ['ENGINESIZE', 'CYLINDERS', 'FUELCONSUMPTION_CITY', 'FUELCONSUMPTION_COMB', 'CO2EMISSIONS'])\n",
    "df.head()"
   ]
  },
  {
   "cell_type": "code",
   "execution_count": 15,
   "metadata": {},
   "outputs": [
    {
     "name": "stdout",
     "output_type": "stream",
     "text": [
      "Feature Values:\n",
      " [[ 1.   2.   4.   9.9  8.5]\n",
      " [ 1.   2.4  4.  11.2  9.6]\n",
      " [ 1.   1.5  4.   6.   5.9]\n",
      " ...\n",
      " [ 1.   3.   6.  13.4 11.8]\n",
      " [ 1.   3.2  6.  12.9 11.3]\n",
      " [ 1.   3.2  6.  14.9 12.8]] \n",
      "\n",
      "CO 2 Emission Values:\n",
      " [196 221 136 ... 271 260 294]\n"
     ]
    }
   ],
   "source": [
    "yCoords = np.stack(df['CO2EMISSIONS'])\n",
    "numFeatures = 5\n",
    "\n",
    "xCoords = np.stack((np.ones(yCoords.size), df['ENGINESIZE'], df['CYLINDERS'], df['FUELCONSUMPTION_CITY'], df['FUELCONSUMPTION_COMB']), axis = 1)\n",
    "print('Feature Values:\\n', xCoords, '\\n')\n",
    "print('CO 2 Emission Values:\\n', yCoords)"
   ]
  },
  {
   "cell_type": "code",
   "execution_count": 16,
   "metadata": {},
   "outputs": [],
   "source": [
    "def costFunction(xCoords, yCoords, theta):\n",
    "    ''' Will return the amount of error '''\n",
    "    \n",
    "    # Taking the dot product of the theta values and the x coordinates to find the equation of each line\n",
    "    predictions = np.dot(xCoords, theta)\n",
    "    \n",
    "    # Defining an accumulator to retain the amount of error that is produced\n",
    "    totalError = 0\n",
    "    \n",
    "    m = len(yCoords) # number of coordinates\n",
    "     \n",
    "    # Calculating the total error produced by the line\n",
    "    totalError = 1/(2 * m) * np.sum(np.square(predictions - yCoords))\n",
    "       \n",
    "    return totalError"
   ]
  },
  {
   "cell_type": "code",
   "execution_count": 17,
   "metadata": {},
   "outputs": [],
   "source": [
    "def gradientDescent(xCoords, yCoords, theta, epoch):\n",
    "    ''' Will find the line of best fit '''\n",
    "    \n",
    "    errors = []\n",
    "    \n",
    "    m = yCoords.size\n",
    "    \n",
    "    predictions = np.dot(xCoords, theta)\n",
    "    \n",
    "    # Learning Rate\n",
    "    a = 0.0001\n",
    "    \n",
    "    # Epoch\n",
    "    for e in range(epoch):\n",
    "        \n",
    "        # Updating our theta values\n",
    "        theta = theta - a / m * (predictions - yCoords).dot(xCoords)\n",
    "\n",
    "        predictions = np.dot(xCoords, theta)\n",
    "        \n",
    "        # We save the error that our line produced on each iteration of e\n",
    "        errors.append(costFunction(xCoords, yCoords, theta))\n",
    "        \n",
    "    return theta, errors"
   ]
  },
  {
   "cell_type": "code",
   "execution_count": 18,
   "metadata": {},
   "outputs": [
    {
     "name": "stdout",
     "output_type": "stream",
     "text": [
      "Our approximate theta values are:\n",
      " [0.685911   2.38680001 4.09413339 9.14660708 7.95891783]\n",
      "\n",
      " [32214.10643237871, 29795.239665103167, 27560.874744828165, 25496.938422655086, 23590.430915048364, 21829.34402310602, 20202.58549744749, 18699.909172321775, 17311.85042887699, 16029.666581098836, 14845.28180893146, 13751.236291735342, 12740.63922169292, 11807.125401211235, 10944.815150944962, 10148.277275915621, 9412.494856464526, 8732.833648569589, 8105.012894491531, 7525.078359896735, 6989.377427627793, 6494.536091246797, 6037.437703442374, 5615.203345444728, 5225.173693803009, 4864.892270310736, 4532.089969576823, 4224.670766787242, 3940.698515635931, 3678.384753270049, 3436.077435437567, 3212.250530884138, 3005.4944094582625, 2814.5069633830676, 2638.0854057709466, 2475.1186947229685, 2324.5805352953635, 2185.5229152550733, 2057.070133908555, 1938.4132863936757, 1828.8051686933334, 1727.5555712794132, 1634.026931743516, 1547.6303190320182, 1467.8217239916842, 1394.0986328613692, 1325.9968621275298, 1263.087634807505, 1204.9748797451637, 1151.2927369082092, 1101.7032529739486, 1055.8942526888964, 1013.5773725946988, 974.4862447355712, 938.3748189071057, 905.0158128789211, 874.1992808296989, 845.7312909777168, 819.43270407777, 795.1380450907003, 772.6944609185975, 751.9607576408472, 732.8065111869344, 715.1112458444662, 698.7636754281491, 683.6610023301287, 669.7082700366714, 656.8177650329437, 644.9084643287023, 633.9055251250769, 623.7398134080419, 614.3474684993729, 605.6695008223528, 597.6514203487067, 590.2428933864967, 583.3974255472082, 577.0720688951596, 571.2271514346805, 565.8260272311986, 560.834845592344, 556.222337855228, 551.9596204369526, 548.0200129078364, 544.3788699414731, 541.0134260831358, 537.9026523587838, 535.0271238215066, 532.3688972011284, 529.9113978863348, 527.6393155274671, 525.5385076024194, 523.5959103382457, 521.7994564273978, 520.137999020322, 518.6012415156757, 517.1796727059341, 515.8645068698979, 514.6476284347652, 513.5215408592135, 512.4793194155299]\n"
     ]
    }
   ],
   "source": [
    "# Initializing our theta values to 1's\n",
    "theta = [0 for i in range(numFeatures)]\n",
    "\n",
    "epoch = 100\n",
    "\n",
    "theta, errors = gradientDescent(xCoords, yCoords, theta, epoch)\n",
    "print(\"Our approximate theta values are:\\n\", theta)\n",
    "print('\\n', errors)"
   ]
  },
  {
   "cell_type": "code",
   "execution_count": 19,
   "metadata": {},
   "outputs": [
    {
     "data": {
      "text/plain": [
       "Text(0, 0.5, 'Cost')"
      ]
     },
     "execution_count": 19,
     "metadata": {},
     "output_type": "execute_result"
    },
    {
     "data": {
      "image/png": "[encoded data removed]",
      "text/plain": [
       "<Figure size 432x288 with 1 Axes>"
      ]
     },
     "metadata": {
      "needs_background": "light"
     },
     "output_type": "display_data"
    }
   ],
   "source": [
    "# Plotting the error\n",
    "#fig = plt.figure()  # open a new figure\n",
    "plt.plot(np.arange(len(errors)), errors, lw=2)\n",
    "plt.xlabel('Number of iterations')\n",
    "plt.ylabel('Cost')"
   ]
  },
  {
   "cell_type": "code",
   "execution_count": null,
   "metadata": {},
   "outputs": [],
   "source": []
  }
 ],
 "metadata": {
  "kernelspec": {
   "display_name": "Python 3",
   "language": "python",
   "name": "python3"
  },
  "language_info": {
   "codemirror_mode": {
    "name": "ipython",
    "version": 3
   },
   "file_extension": ".py",
   "mimetype": "text/x-python",
   "name": "python",
   "nbconvert_exporter": "python",
   "pygments_lexer": "ipython3",
   "version": "3.8.5"
  }
 },
 "nbformat": 4,
 "nbformat_minor": 4
}
